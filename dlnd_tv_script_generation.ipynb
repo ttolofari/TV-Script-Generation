{
  "nbformat": 4,
  "nbformat_minor": 0,
  "metadata": {
    "colab": {
      "name": "Copy of dlnd_tv_script_generation.ipynb",
      "version": "0.3.2",
      "provenance": [],
      "collapsed_sections": [],
      "include_colab_link": true
    },
    "kernelspec": {
      "name": "python3",
      "display_name": "Python 3"
    },
    "accelerator": "GPU"
  },
  "cells": [
    {
      "cell_type": "markdown",
      "metadata": {
        "id": "view-in-github",
        "colab_type": "text"
      },
      "source": [
        "<a href=\"https://colab.research.google.com/github/ttolofari/TV-Script-Generation/blob/master/dlnd_tv_script_generation.ipynb\" target=\"_parent\"><img src=\"https://colab.research.google.com/assets/colab-badge.svg\" alt=\"Open In Colab\"/></a>"
      ]
    },
    {
      "metadata": {
        "id": "MtDv_ZWYdS_0",
        "colab_type": "text"
      },
      "cell_type": "markdown",
      "source": [
        "# TV Script Generation\n",
        "\n",
        "In this project, you'll generate your own [Seinfeld](https://en.wikipedia.org/wiki/Seinfeld) TV scripts using RNNs.  You'll be using part of the [Seinfeld dataset](https://www.kaggle.com/thec03u5/seinfeld-chronicles#scripts.csv) of scripts from 9 seasons.  The Neural Network you'll build will generate a new ,\"fake\" TV script, based on patterns it recognizes in this training data.\n",
        "\n",
        "## Get the Data\n",
        "\n",
        "The data is already provided for you in `./data/Seinfeld_Scripts.txt` and you're encouraged to open that file and look at the text. \n",
        ">* As a first step, we'll load in this data and look at some samples. \n",
        "* Then, you'll be tasked with defining and training an RNN to generate a new script!"
      ]
    },
    {
      "metadata": {
        "id": "VbyRkVP9dS_2",
        "colab_type": "code",
        "colab": {}
      },
      "cell_type": "code",
      "source": [
        "\"\"\"\n",
        "DON'T MODIFY ANYTHING IN THIS CELL\n",
        "\"\"\"\n",
        "# load in data\n",
        "import helper\n",
        "data_dir = './data/Seinfeld_Scripts.txt'\n",
        "text = helper.load_data(data_dir)"
      ],
      "execution_count": 0,
      "outputs": []
    },
    {
      "metadata": {
        "id": "7OxJAIP0dS_9",
        "colab_type": "text"
      },
      "cell_type": "markdown",
      "source": [
        "## Explore the Data\n",
        "Play around with `view_line_range` to view different parts of the data. This will give you a sense of the data you'll be working with. You can see, for example, that it is all lowercase text, and each new line of dialogue is separated by a newline character `\\n`."
      ]
    },
    {
      "metadata": {
        "id": "Phc4KtzkdS__",
        "colab_type": "code",
        "outputId": "3a0bc74e-0d74-4cf6-bdb2-bcea496a169d",
        "colab": {
          "base_uri": "https://localhost:8080/",
          "height": 297
        }
      },
      "cell_type": "code",
      "source": [
        "view_line_range = (0, 10)\n",
        "\n",
        "\"\"\"\n",
        "DON'T MODIFY ANYTHING IN THIS CELL THAT IS BELOW THIS LINE\n",
        "\"\"\"\n",
        "import numpy as np\n",
        "\n",
        "print('Dataset Stats')\n",
        "print('Roughly the number of unique words: {}'.format(len({word: None for word in text.split()})))\n",
        "\n",
        "lines = text.split('\\n')\n",
        "print('Number of lines: {}'.format(len(lines)))\n",
        "word_count_line = [len(line.split()) for line in lines]\n",
        "print('Average number of words in each line: {}'.format(np.average(word_count_line)))\n",
        "\n",
        "print()\n",
        "print('The lines {} to {}:'.format(*view_line_range))\n",
        "print('\\n'.join(text.split('\\n')[view_line_range[0]:view_line_range[1]]))"
      ],
      "execution_count": 0,
      "outputs": [
        {
          "output_type": "stream",
          "text": [
            "Dataset Stats\n",
            "Roughly the number of unique words: 46367\n",
            "Number of lines: 109233\n",
            "Average number of words in each line: 5.544240293684143\n",
            "\n",
            "The lines 0 to 10:\n",
            "jerry: do you know what this is all about? do you know, why were here? to be out, this is out...and out is one of the single most enjoyable experiences of life. people...did you ever hear people talking about we should go out? this is what theyre talking about...this whole thing, were all out now, no one is home. not one person here is home, were all out! there are people trying to find us, they dont know where we are. (on an imaginary phone) did you ring?, i cant find him. where did he go? he didnt tell me where he was going. he must have gone out. you wanna go out you get ready, you pick out the clothes, right? you take the shower, you get all ready, get the cash, get your friends, the car, the spot, the reservation...then youre standing around, what do you do? you go we gotta be getting back. once youre out, you wanna get back! you wanna go to sleep, you wanna get up, you wanna go out again tomorrow, right? where ever you are in life, its my feeling, youve gotta go. \n",
            "\n",
            "jerry: (pointing at georges shirt) see, to me, that button is in the worst possible spot. the second button literally makes or breaks the shirt, look at it. its too high! its in no-mans-land. you look like you live with your mother. \n",
            "\n",
            "george: are you through? \n",
            "\n",
            "jerry: you do of course try on, when you buy? \n",
            "\n",
            "george: yes, it was purple, i liked it, i dont actually recall considering the buttons. \n",
            "\n"
          ],
          "name": "stdout"
        }
      ]
    },
    {
      "metadata": {
        "id": "THD__33tdTAC",
        "colab_type": "text"
      },
      "cell_type": "markdown",
      "source": [
        "---\n",
        "## Implement Pre-processing Functions\n",
        "The first thing to do to any dataset is pre-processing.  Implement the following pre-processing functions below:\n",
        "- Lookup Table\n",
        "- Tokenize Punctuation\n",
        "\n",
        "### Lookup Table\n",
        "To create a word embedding, you first need to transform the words to ids.  In this function, create two dictionaries:\n",
        "- Dictionary to go from the words to an id, we'll call `vocab_to_int`\n",
        "- Dictionary to go from the id to word, we'll call `int_to_vocab`\n",
        "\n",
        "Return these dictionaries in the following **tuple** `(vocab_to_int, int_to_vocab)`"
      ]
    },
    {
      "metadata": {
        "id": "7G7ct-tGdTAD",
        "colab_type": "code",
        "outputId": "18872000-f9ad-4b9d-b98d-25a898d64e4a",
        "colab": {
          "base_uri": "https://localhost:8080/",
          "height": 33
        }
      },
      "cell_type": "code",
      "source": [
        "import problem_unittests as tests\n",
        "from collections import Counter\n",
        "\n",
        "def create_lookup_tables(text):\n",
        "    \"\"\"\n",
        "    Create lookup tables for vocabulary\n",
        "    :param text: The text of tv scripts split into words\n",
        "    :return: A tuple of dicts (vocab_to_int, int_to_vocab)\n",
        "    \"\"\"\n",
        "    # TODO: Implement Function\n",
        "    \n",
        "    word_count = Counter(text)\n",
        "    \n",
        "    # Sorting the words from most frequent to least frequent in the text\n",
        "    \n",
        "    sorted_vocab = sorted(word_count, key = word_count.get, reverse = True)\n",
        "    \n",
        "    # Create dictionaries\n",
        "    int_to_vocab = {ii:  word for ii, word in enumerate(sorted_vocab)}\n",
        "    vocab_to_int = {word: ii for ii, word in int_to_vocab.items()}\n",
        "    \n",
        "    # return tuple\n",
        "    return (vocab_to_int, int_to_vocab)\n",
        "\n",
        "\n",
        "\"\"\"\n",
        "DON'T MODIFY ANYTHING IN THIS CELL THAT IS BELOW THIS LINE\n",
        "\"\"\"\n",
        "tests.test_create_lookup_tables(create_lookup_tables)"
      ],
      "execution_count": 0,
      "outputs": [
        {
          "output_type": "stream",
          "text": [
            "Tests Passed\n"
          ],
          "name": "stdout"
        }
      ]
    },
    {
      "metadata": {
        "id": "hDTUkk90dTAF",
        "colab_type": "text"
      },
      "cell_type": "markdown",
      "source": [
        "### Tokenize Punctuation\n",
        "We'll be splitting the script into a word array using spaces as delimiters.  However, punctuations like periods and exclamation marks can create multiple ids for the same word. For example, \"bye\" and \"bye!\" would generate two different word ids.\n",
        "\n",
        "Implement the function `token_lookup` to return a dict that will be used to tokenize symbols like \"!\" into \"||Exclamation_Mark||\".  Create a dictionary for the following symbols where the symbol is the key and value is the token:\n",
        "- Period ( **.** )\n",
        "- Comma ( **,** )\n",
        "- Quotation Mark ( **\"** )\n",
        "- Semicolon ( **;** )\n",
        "- Exclamation mark ( **!** )\n",
        "- Question mark ( **?** )\n",
        "- Left Parentheses ( **(** )\n",
        "- Right Parentheses ( **)** )\n",
        "- Dash ( **-** )\n",
        "- Return ( **\\n** )\n",
        "\n",
        "This dictionary will be used to tokenize the symbols and add the delimiter (space) around it.  This separates each symbols as its own word, making it easier for the neural network to predict the next word. Make sure you don't use a value that could be confused as a word; for example, instead of using the value \"dash\", try using something like \"||dash||\"."
      ]
    },
    {
      "metadata": {
        "id": "E1fv772DdTAF",
        "colab_type": "code",
        "outputId": "8717965d-e911-410e-ee45-7052288b720f",
        "colab": {
          "base_uri": "https://localhost:8080/",
          "height": 33
        }
      },
      "cell_type": "code",
      "source": [
        "def token_lookup():\n",
        "    \"\"\"\n",
        "    Generate a dict to turn punctuation into a token.\n",
        "    :return: Tokenized dictionary where the key is the punctuation and the value is the token\n",
        "    \"\"\"\n",
        "    # TODO: Implement Function\n",
        "    \n",
        "    # Replace punctuation with tokens\n",
        "    tokens = {'.': '<PERIOD>', ',': '<COMMA>', '\"': '<QUOTATION_MARK>', ';': '<SEMICOLON>',\n",
        "              '!': '<EXCLAMATION_MARK>', '?': '<QUESTION_MARK>', '(': '<LEFT_PARENTHESIS>', \n",
        "              ')': '<RIGHT_PARENTHESIS>', '-': '<HYPHENS>', '\\n': '<NEW_LINE>'\n",
        "    }\n",
        "    return tokens\n",
        "\n",
        "\"\"\"\n",
        "DON'T MODIFY ANYTHING IN THIS CELL THAT IS BELOW THIS LINE\n",
        "\"\"\"\n",
        "tests.test_tokenize(token_lookup)"
      ],
      "execution_count": 0,
      "outputs": [
        {
          "output_type": "stream",
          "text": [
            "Tests Passed\n"
          ],
          "name": "stdout"
        }
      ]
    },
    {
      "metadata": {
        "id": "gy3HgiaadTAH",
        "colab_type": "text"
      },
      "cell_type": "markdown",
      "source": [
        "## Pre-process all the data and save it\n",
        "\n",
        "Running the code cell below will pre-process all the data and save it to file. You're encouraged to lok at the code for `preprocess_and_save_data` in the `helpers.py` file to see what it's doing in detail, but you do not need to change this code."
      ]
    },
    {
      "metadata": {
        "id": "Oqsdj-rndTAI",
        "colab_type": "code",
        "colab": {}
      },
      "cell_type": "code",
      "source": [
        "\"\"\"\n",
        "DON'T MODIFY ANYTHING IN THIS CELL\n",
        "\"\"\"\n",
        "# pre-process training data\n",
        "helper.preprocess_and_save_data(data_dir, token_lookup, create_lookup_tables)"
      ],
      "execution_count": 0,
      "outputs": []
    },
    {
      "metadata": {
        "id": "LMI7zXzIdTAK",
        "colab_type": "text"
      },
      "cell_type": "markdown",
      "source": [
        "# Check Point\n",
        "This is your first checkpoint. If you ever decide to come back to this notebook or have to restart the notebook, you can start from here. The preprocessed data has been saved to disk."
      ]
    },
    {
      "metadata": {
        "id": "70mPWLKAdTAK",
        "colab_type": "code",
        "colab": {}
      },
      "cell_type": "code",
      "source": [
        "\"\"\"\n",
        "DON'T MODIFY ANYTHING IN THIS CELL\n",
        "\"\"\"\n",
        "import helper\n",
        "import problem_unittests as tests\n",
        "\n",
        "int_text, vocab_to_int, int_to_vocab, token_dict = helper.load_preprocess()"
      ],
      "execution_count": 0,
      "outputs": []
    },
    {
      "metadata": {
        "id": "KCZHxuEYdTAN",
        "colab_type": "text"
      },
      "cell_type": "markdown",
      "source": [
        "## Build the Neural Network\n",
        "In this section, you'll build the components necessary to build an RNN by implementing the RNN Module and forward and backpropagation functions.\n",
        "\n",
        "### Check Access to GPU"
      ]
    },
    {
      "metadata": {
        "id": "5tTkTJ63dTAO",
        "colab_type": "code",
        "colab": {}
      },
      "cell_type": "code",
      "source": [
        "\"\"\"\n",
        "DON'T MODIFY ANYTHING IN THIS CELL\n",
        "\"\"\"\n",
        "import torch\n",
        "\n",
        "# Check for a GPU\n",
        "train_on_gpu = torch.cuda.is_available()\n",
        "if not train_on_gpu:\n",
        "    print('No GPU found. Please use a GPU to train your neural network.')"
      ],
      "execution_count": 0,
      "outputs": []
    },
    {
      "metadata": {
        "id": "IytsVyYEdTAR",
        "colab_type": "text"
      },
      "cell_type": "markdown",
      "source": [
        "## Input\n",
        "Let's start with the preprocessed input data. We'll use [TensorDataset](http://pytorch.org/docs/master/data.html#torch.utils.data.TensorDataset) to provide a known format to our dataset; in combination with [DataLoader](http://pytorch.org/docs/master/data.html#torch.utils.data.DataLoader), it will handle batching, shuffling, and other dataset iteration functions.\n",
        "\n",
        "You can create data with TensorDataset by passing in feature and target tensors. Then create a DataLoader as usual.\n",
        "```\n",
        "data = TensorDataset(feature_tensors, target_tensors)\n",
        "data_loader = torch.utils.data.DataLoader(data, \n",
        "                                          batch_size=batch_size)\n",
        "```\n",
        "\n",
        "### Batching\n",
        "Implement the `batch_data` function to batch `words` data into chunks of size `batch_size` using the `TensorDataset` and `DataLoader` classes.\n",
        "\n",
        ">You can batch words using the DataLoader, but it will be up to you to create `feature_tensors` and `target_tensors` of the correct size and content for a given `sequence_length`.\n",
        "\n",
        "For example, say we have these as input:\n",
        "```\n",
        "words = [1, 2, 3, 4, 5, 6, 7]\n",
        "sequence_length = 4\n",
        "```\n",
        "\n",
        "Your first `feature_tensor` should contain the values:\n",
        "```\n",
        "[1, 2, 3, 4]\n",
        "```\n",
        "And the corresponding `target_tensor` should just be the next \"word\"/tokenized word value:\n",
        "```\n",
        "5\n",
        "```\n",
        "This should continue with the second `feature_tensor`, `target_tensor` being:\n",
        "```\n",
        "[2, 3, 4, 5]  # features\n",
        "6             # target\n",
        "```"
      ]
    },
    {
      "metadata": {
        "id": "VaWn6TuqdTAS",
        "colab_type": "code",
        "colab": {}
      },
      "cell_type": "code",
      "source": [
        "from torch.utils.data import TensorDataset, DataLoader\n",
        "\n",
        "\n",
        "def batch_data(words, sequence_length, batch_size):\n",
        "    \"\"\"\n",
        "    Batch the neural network data using DataLoader\n",
        "    :param words: The word ids of the TV scripts\n",
        "    :param sequence_length: The sequence length of each batch\n",
        "    :param batch_size: The size of each batch; the number of sequences in a batch\n",
        "    :return: DataLoader with batched data\n",
        "    \"\"\"\n",
        "    # TODO: Implement function\n",
        "    \n",
        "    n_batches = len(words)//batch_size\n",
        "    \n",
        "    words = words[:n_batches*batch_size]\n",
        "    \n",
        "    \n",
        "    x, y = [], []\n",
        "    for idx in range(0, len(words)-sequence_length):\n",
        "        \n",
        "        x.append(words[idx:idx+sequence_length])\n",
        "        y.append(words[idx+sequence_length])\n",
        "    \n",
        "    data = TensorDataset(torch.from_numpy(np.asarray(x)), torch.from_numpy(np.asarray(y)))\n",
        "    dataloader = DataLoader(data, shuffle=True, batch_size=batch_size)\n",
        "    # return a dataloader\n",
        "    return dataloader\n",
        "\n",
        "# there is no test for this function, but you are encouraged to create\n",
        "# print statements and tests of your own\n"
      ],
      "execution_count": 0,
      "outputs": []
    },
    {
      "metadata": {
        "id": "080TgSlfdTAU",
        "colab_type": "text"
      },
      "cell_type": "markdown",
      "source": [
        "### Test your dataloader \n",
        "\n",
        "You'll have to modify this code to test a batching function, but it should look fairly similar.\n",
        "\n",
        "Below, we're generating some test text data and defining a dataloader using the function you defined, above. Then, we are getting some sample batch of inputs `sample_x` and targets `sample_y` from our dataloader.\n",
        "\n",
        "Your code should return something like the following (likely in a different order, if you shuffled your data):\n",
        "\n",
        "```\n",
        "torch.Size([10, 5])\n",
        "tensor([[ 28,  29,  30,  31,  32],\n",
        "        [ 21,  22,  23,  24,  25],\n",
        "        [ 17,  18,  19,  20,  21],\n",
        "        [ 34,  35,  36,  37,  38],\n",
        "        [ 11,  12,  13,  14,  15],\n",
        "        [ 23,  24,  25,  26,  27],\n",
        "        [  6,   7,   8,   9,  10],\n",
        "        [ 38,  39,  40,  41,  42],\n",
        "        [ 25,  26,  27,  28,  29],\n",
        "        [  7,   8,   9,  10,  11]])\n",
        "\n",
        "torch.Size([10])\n",
        "tensor([ 33,  26,  22,  39,  16,  28,  11,  43,  30,  12])\n",
        "```\n",
        "\n",
        "### Sizes\n",
        "Your sample_x should be of size `(batch_size, sequence_length)` or (10, 5) in this case and sample_y should just have one dimension: batch_size (10). \n",
        "\n",
        "### Values\n",
        "\n",
        "You should also notice that the targets, sample_y, are the *next* value in the ordered test_text data. So, for an input sequence `[ 28,  29,  30,  31,  32]` that ends with the value `32`, the corresponding output should be `33`."
      ]
    },
    {
      "metadata": {
        "id": "H7eC28ahdTAV",
        "colab_type": "code",
        "outputId": "964fdd06-bef0-4d04-8b31-05dcdb511a92",
        "colab": {
          "base_uri": "https://localhost:8080/",
          "height": 245
        }
      },
      "cell_type": "code",
      "source": [
        "# test dataloader\n",
        "\n",
        "test_text = range(50)\n",
        "t_loader = batch_data(test_text, sequence_length=5, batch_size=10)\n",
        "\n",
        "data_iter = iter(t_loader)\n",
        "sample_x, sample_y = data_iter.next()\n",
        "\n",
        "print(sample_x.shape)\n",
        "print(sample_x)\n",
        "print()\n",
        "print(sample_y.shape)\n",
        "print(sample_y)"
      ],
      "execution_count": 0,
      "outputs": [
        {
          "output_type": "stream",
          "text": [
            "torch.Size([10, 5])\n",
            "tensor([[36, 37, 38, 39, 40],\n",
            "        [31, 32, 33, 34, 35],\n",
            "        [16, 17, 18, 19, 20],\n",
            "        [ 5,  6,  7,  8,  9],\n",
            "        [30, 31, 32, 33, 34],\n",
            "        [11, 12, 13, 14, 15],\n",
            "        [39, 40, 41, 42, 43],\n",
            "        [14, 15, 16, 17, 18],\n",
            "        [27, 28, 29, 30, 31],\n",
            "        [18, 19, 20, 21, 22]])\n",
            "\n",
            "torch.Size([10])\n",
            "tensor([41, 36, 21, 10, 35, 16, 44, 19, 32, 23])\n"
          ],
          "name": "stdout"
        }
      ]
    },
    {
      "metadata": {
        "id": "AHquRi3-dTAX",
        "colab_type": "text"
      },
      "cell_type": "markdown",
      "source": [
        "---\n",
        "## Build the Neural Network\n",
        "Implement an RNN using PyTorch's [Module class](http://pytorch.org/docs/master/nn.html#torch.nn.Module). You may choose to use a GRU or an LSTM. To complete the RNN, you'll have to implement the following functions for the class:\n",
        " - `__init__` - The initialize function. \n",
        " - `init_hidden` - The initialization function for an LSTM/GRU hidden state\n",
        " - `forward` - Forward propagation function.\n",
        " \n",
        "The initialize function should create the layers of the neural network and save them to the class. The forward propagation function will use these layers to run forward propagation and generate an output and a hidden state.\n",
        "\n",
        "**The output of this model should be the *last* batch of word scores** after a complete sequence has been processed. That is, for each input sequence of words, we only want to output the word scores for a single, most likely, next word.\n",
        "\n",
        "### Hints\n",
        "\n",
        "1. Make sure to stack the outputs of the lstm to pass to your fully-connected layer, you can do this with `lstm_output = lstm_output.contiguous().view(-1, self.hidden_dim)`\n",
        "2. You can get the last batch of word scores by shaping the output of the final, fully-connected layer like so:\n",
        "\n",
        "```\n",
        "# reshape into (batch_size, seq_length, output_size)\n",
        "output = output.view(batch_size, -1, self.output_size)\n",
        "# get last batch\n",
        "out = output[:, -1]\n",
        "```"
      ]
    },
    {
      "metadata": {
        "id": "bRxQDRSndTAY",
        "colab_type": "code",
        "outputId": "ed449a8c-b3f2-4c1f-ee10-b6cbc52d5270",
        "colab": {
          "base_uri": "https://localhost:8080/",
          "height": 33
        }
      },
      "cell_type": "code",
      "source": [
        "import torch.nn as nn\n",
        "\n",
        "class RNN(nn.Module):\n",
        "    \n",
        "    def __init__(self, vocab_size, output_size, embedding_dim, hidden_dim, n_layers, dropout=0.5):\n",
        "        \"\"\"\n",
        "        Initialize the PyTorch RNN Module\n",
        "        :param vocab_size: The number of input dimensions of the neural network (the size of the vocabulary)\n",
        "        :param output_size: The number of output dimensions of the neural network\n",
        "        :param embedding_dim: The size of embeddings, should you choose to use them        \n",
        "        :param hidden_dim: The size of the hidden layer outputs\n",
        "        :param dropout: dropout to add in between LSTM/GRU layers\n",
        "        \"\"\"\n",
        "        super(RNN, self).__init__()\n",
        "        # TODO: Implement function\n",
        "        \n",
        "        # set class variables\n",
        "        self.hidden_dim = hidden_dim\n",
        "        self.output_size = output_size\n",
        "        self.n_layers = n_layers\n",
        "        \n",
        "        # define model layers\n",
        "        \n",
        "        # Defining the Embedding Layer\n",
        "        self.embed = nn.Embedding(vocab_size, embedding_dim)\n",
        "        \n",
        "        # Defining the LSTM layer\n",
        "        self.lstm = nn.LSTM(embedding_dim, hidden_dim, n_layers, dropout = dropout, batch_first = True)\n",
        "        \n",
        "        # Defining the Dropout\n",
        "        self.dropout = nn.Dropout(dropout)\n",
        "        \n",
        "        # Definng the final fully-connected output layer\n",
        "        self.fc = nn.Linear(hidden_dim, output_size)\n",
        "        \n",
        "    \n",
        "    \n",
        "    def forward(self, nn_input, hidden):\n",
        "        \"\"\"\n",
        "        Forward propagation of the neural network\n",
        "        :param nn_input: The input to the neural network\n",
        "        :param hidden: The hidden state        \n",
        "        :return: Two Tensors, the output of the neural network and the latest hidden state\n",
        "        \"\"\"\n",
        "        # TODO: Implement function\n",
        "        \n",
        "        batch_size = nn_input.size(0)\n",
        "        \n",
        "        \n",
        "        # embeddings and lstm_out\n",
        "        embeds = self.embed(nn_input)\n",
        "        # Getting the output and new hidden state from the LSTM\n",
        "        lstm_out, hidden = self.lstm(embeds, hidden)\n",
        "    \n",
        "        # stack up lstm outputs\n",
        "        lstm_output = lstm_out.contiguous().view(-1, self.hidden_dim)\n",
        "                     \n",
        "        \n",
        "        # dropout and fully-connected layer\n",
        "        out = self.dropout(lstm_output)\n",
        "        out = self.fc(out)\n",
        "        \n",
        "        # reshape to be batch_size first\n",
        "        out = out.view(batch_size, -1, self.output_size)\n",
        "        out = out[:, -1] # get last batch of labels              \n",
        "\n",
        "        # return one batch of output word scores and the hidden state\n",
        "        return out, hidden\n",
        "    \n",
        "    \n",
        "    def init_hidden(self, batch_size):\n",
        "        '''\n",
        "        Initialize the hidden state of an LSTM/GRU\n",
        "        :param batch_size: The batch_size of the hidden state\n",
        "        :return: hidden state of dims (n_layers, batch_size, hidden_dim)\n",
        "        '''\n",
        "        # Implement function\n",
        "        \n",
        "        # initialize hidden state with zero weights, and move to GPU if available\n",
        "        \n",
        "        weight = next(self.parameters()).data\n",
        "        \n",
        "        if (train_on_gpu):\n",
        "            hidden = (weight.new(self.n_layers, batch_size, self.hidden_dim).zero_().cuda(),\n",
        "                  weight.new(self.n_layers, batch_size, self.hidden_dim).zero_().cuda())\n",
        "        else:\n",
        "            hidden = (weight.new(self.n_layers, batch_size, self.hidden_dim).zero_(),\n",
        "                      weight.new(self.n_layers, batch_size, self.hidden_dim).zero_())\n",
        "        \n",
        "        return hidden\n",
        "        \n",
        "\n",
        "\"\"\"\n",
        "DON'T MODIFY ANYTHING IN THIS CELL THAT IS BELOW THIS LINE\n",
        "\"\"\"\n",
        "tests.test_rnn(RNN, train_on_gpu)"
      ],
      "execution_count": 0,
      "outputs": [
        {
          "output_type": "stream",
          "text": [
            "Tests Passed\n"
          ],
          "name": "stdout"
        }
      ]
    },
    {
      "metadata": {
        "id": "nbbU1hHEdTAa",
        "colab_type": "text"
      },
      "cell_type": "markdown",
      "source": [
        "### Define forward and backpropagation\n",
        "\n",
        "Use the RNN class you implemented to apply forward and back propagation. This function will be called, iteratively, in the training loop as follows:\n",
        "```\n",
        "loss = forward_back_prop(decoder, decoder_optimizer, criterion, inp, target)\n",
        "```\n",
        "\n",
        "And it should return the average loss over a batch and the hidden state returned by a call to `RNN(inp, hidden)`. Recall that you can get this loss by computing it, as usual, and calling `loss.item()`.\n",
        "\n",
        "**If a GPU is available, you should move your data to that GPU device, here.**"
      ]
    },
    {
      "metadata": {
        "id": "YRrgv6F5dTAa",
        "colab_type": "code",
        "outputId": "3240dd71-0f98-47a9-d417-bd6cfeadc8ff",
        "colab": {
          "base_uri": "https://localhost:8080/",
          "height": 33
        }
      },
      "cell_type": "code",
      "source": [
        "def forward_back_prop(rnn, optimizer, criterion, inp, target, hidden):\n",
        "    \"\"\"\n",
        "    Forward and backward propagation on the neural network\n",
        "    :param decoder: The PyTorch Module that holds the neural network\n",
        "    :param decoder_optimizer: The PyTorch optimizer for the neural network\n",
        "    :param criterion: The PyTorch loss function\n",
        "    :param inp: A batch of input to the neural network\n",
        "    :param target: The target output for the batch of input\n",
        "    :return: The loss and the latest hidden state Tensor\n",
        "    \"\"\"\n",
        "    \n",
        "    # TODO: Implement Function\n",
        "    \n",
        "    # move data to GPU, if available\n",
        "    if (train_on_gpu):\n",
        "        rnn.cuda()\n",
        "        inp, target = inp.cuda(), target.cuda()\n",
        "    \n",
        "    # perform backpropagation and optimization\n",
        "    \n",
        "    # Creating new variables for the hidden state, otherwise\n",
        "    # we'd backprop through the entire training history\n",
        "    h = tuple([each.data for each in hidden])\n",
        "        \n",
        "    # zero accumulated gradients\n",
        "    rnn.zero_grad()\n",
        "    # get the output from the model\n",
        "    output, h = rnn(inp, h)\n",
        "        \n",
        "    # calculate the loss and perform backprop\n",
        "    loss = criterion(output.squeeze(), target)\n",
        "    loss.backward()\n",
        "    # `clip_grad_norm` helps prevent the exploding gradient problem in RNNs / LSTMs.\n",
        "    clip=5 # gradient clipping\n",
        "\n",
        "    \n",
        "    nn.utils.clip_grad_norm_(rnn.parameters(), clip)\n",
        "    optimizer.step()                \n",
        "    # return the loss over a batch and the hidden state produced by our model\n",
        "    return loss.item(), h\n",
        "\n",
        "# Note that these tests aren't completely extensive.\n",
        "# they are here to act as general checks on the expected outputs of your functions\n",
        "\"\"\"\n",
        "DON'T MODIFY ANYTHING IN THIS CELL THAT IS BELOW THIS LINE\n",
        "\"\"\"\n",
        "tests.test_forward_back_prop(RNN, forward_back_prop, train_on_gpu)"
      ],
      "execution_count": 0,
      "outputs": [
        {
          "output_type": "stream",
          "text": [
            "Tests Passed\n"
          ],
          "name": "stdout"
        }
      ]
    },
    {
      "metadata": {
        "id": "TnG-9YaHdTAc",
        "colab_type": "text"
      },
      "cell_type": "markdown",
      "source": [
        "## Neural Network Training\n",
        "\n",
        "With the structure of the network complete and data ready to be fed in the neural network, it's time to train it.\n",
        "\n",
        "### Train Loop\n",
        "\n",
        "The training loop is implemented for you in the `train_decoder` function. This function will train the network over all the batches for the number of epochs given. The model progress will be shown every number of batches. This number is set with the `show_every_n_batches` parameter. You'll set this parameter along with other parameters in the next section."
      ]
    },
    {
      "metadata": {
        "id": "z7EEQHUNdTAd",
        "colab_type": "code",
        "colab": {}
      },
      "cell_type": "code",
      "source": [
        "\"\"\"\n",
        "DON'T MODIFY ANYTHING IN THIS CELL\n",
        "\"\"\"\n",
        "\n",
        "def train_rnn(rnn, batch_size, optimizer, criterion, n_epochs, show_every_n_batches=100):\n",
        "    batch_losses = []\n",
        "    \n",
        "    rnn.train()\n",
        "\n",
        "    print(\"Training for %d epoch(s)...\" % n_epochs)\n",
        "    for epoch_i in range(1, n_epochs + 1):\n",
        "        \n",
        "        # initialize hidden state\n",
        "        hidden = rnn.init_hidden(batch_size)\n",
        "        \n",
        "        for batch_i, (inputs, labels) in enumerate(train_loader, 1):\n",
        "            \n",
        "            # make sure you iterate over completely full batches, only\n",
        "            n_batches = len(train_loader.dataset)//batch_size\n",
        "            if(batch_i > n_batches):\n",
        "                break\n",
        "            \n",
        "            # forward, back prop\n",
        "            loss, hidden = forward_back_prop(rnn, optimizer, criterion, inputs, labels, hidden)          \n",
        "            # record loss\n",
        "            batch_losses.append(loss)\n",
        "\n",
        "            # printing loss stats\n",
        "            if batch_i % show_every_n_batches == 0:\n",
        "                print('Epoch: {:>4}/{:<4}  Loss: {}\\n'.format(\n",
        "                    epoch_i, n_epochs, np.average(batch_losses)))\n",
        "                batch_losses = []\n",
        "\n",
        "    # returns a trained rnn\n",
        "    return rnn"
      ],
      "execution_count": 0,
      "outputs": []
    },
    {
      "metadata": {
        "id": "1Ra_PDK9dTAf",
        "colab_type": "text"
      },
      "cell_type": "markdown",
      "source": [
        "### Hyperparameters\n",
        "\n",
        "Set and train the neural network with the following parameters:\n",
        "- Set `sequence_length` to the length of a sequence.\n",
        "- Set `batch_size` to the batch size.\n",
        "- Set `num_epochs` to the number of epochs to train for.\n",
        "- Set `learning_rate` to the learning rate for an Adam optimizer.\n",
        "- Set `vocab_size` to the number of uniqe tokens in our vocabulary.\n",
        "- Set `output_size` to the desired size of the output.\n",
        "- Set `embedding_dim` to the embedding dimension; smaller than the vocab_size.\n",
        "- Set `hidden_dim` to the hidden dimension of your RNN.\n",
        "- Set `n_layers` to the number of layers/cells in your RNN.\n",
        "- Set `show_every_n_batches` to the number of batches at which the neural network should print progress.\n",
        "\n",
        "If the network isn't getting the desired results, tweak these parameters and/or the layers in the `RNN` class."
      ]
    },
    {
      "metadata": {
        "id": "zDNPiGypdTAg",
        "colab_type": "code",
        "colab": {}
      },
      "cell_type": "code",
      "source": [
        "# Data params\n",
        "# Sequence Length\n",
        "sequence_length = 20  # of words in a sequence\n",
        "# Batch Size\n",
        "batch_size = 256\n",
        "\n",
        "# data loader - do not change\n",
        "train_loader = batch_data(int_text, sequence_length, batch_size)"
      ],
      "execution_count": 0,
      "outputs": []
    },
    {
      "metadata": {
        "id": "XgC_AFs6dTAi",
        "colab_type": "code",
        "colab": {}
      },
      "cell_type": "code",
      "source": [
        "# Training parameters\n",
        "# Number of Epochs\n",
        "num_epochs = 15\n",
        "# Learning Rate\n",
        "learning_rate = 0.001\n",
        "\n",
        "# Model parameters\n",
        "# Vocab size\n",
        "vocab_size = len(vocab_to_int)+1\n",
        "# Output size\n",
        "output_size = vocab_size\n",
        "# Embedding Dimension\n",
        "embedding_dim = 200\n",
        "# Hidden Dimension\n",
        "hidden_dim = 512\n",
        "# Number of RNN Layers\n",
        "n_layers = 2\n",
        "\n",
        "# Show stats for every n number of batches\n",
        "show_every_n_batches = 500"
      ],
      "execution_count": 0,
      "outputs": []
    },
    {
      "metadata": {
        "id": "mADaDr0MdTAm",
        "colab_type": "text"
      },
      "cell_type": "markdown",
      "source": [
        "### Train\n",
        "In the next cell, you'll train the neural network on the pre-processed data.  If you have a hard time getting a good loss, you may consider changing your hyperparameters. In general, you may get better results with larger hidden and n_layer dimensions, but larger models take a longer time to train. \n",
        "> **You should aim for a loss less than 3.5.** \n",
        "\n",
        "You should also experiment with different sequence lengths, which determine the size of the long range dependencies that a model can learn."
      ]
    },
    {
      "metadata": {
        "id": "SzkJCzqHdTAn",
        "colab_type": "code",
        "outputId": "caf7bf8a-b3df-4be9-90d7-c018704859e0",
        "colab": {
          "base_uri": "https://localhost:8080/",
          "height": 3007
        }
      },
      "cell_type": "code",
      "source": [
        "\"\"\"\n",
        "DON'T MODIFY ANYTHING IN THIS CELL\n",
        "\"\"\"\n",
        "\n",
        "# create model and move to gpu if available\n",
        "rnn = RNN(vocab_size, output_size, embedding_dim, hidden_dim, n_layers, dropout=0.5)\n",
        "if train_on_gpu:\n",
        "    rnn.cuda()\n",
        "\n",
        "# defining loss and optimization functions for training\n",
        "optimizer = torch.optim.Adam(rnn.parameters(), lr=learning_rate)\n",
        "criterion = nn.CrossEntropyLoss()\n",
        "\n",
        "# training the model\n",
        "trained_rnn = train_rnn(rnn, batch_size, optimizer, criterion, num_epochs, show_every_n_batches)\n",
        "\n",
        "# saving the trained model\n",
        "helper.save_model('./save/trained_rnn', trained_rnn)\n",
        "print('Model Trained and Saved')"
      ],
      "execution_count": 0,
      "outputs": [
        {
          "output_type": "stream",
          "text": [
            "Training for 15 epoch(s)...\n",
            "Epoch:    1/15    Loss: 5.278674700737\n",
            "\n",
            "Epoch:    1/15    Loss: 4.710782909393311\n",
            "\n",
            "Epoch:    1/15    Loss: 4.547827222824097\n",
            "\n",
            "Epoch:    1/15    Loss: 4.434010179042816\n",
            "\n",
            "Epoch:    1/15    Loss: 4.370690539836883\n",
            "\n",
            "Epoch:    1/15    Loss: 4.30751265668869\n",
            "\n",
            "Epoch:    2/15    Loss: 4.216064339130359\n",
            "\n",
            "Epoch:    2/15    Loss: 4.139713389396667\n",
            "\n",
            "Epoch:    2/15    Loss: 4.125852401733399\n",
            "\n",
            "Epoch:    2/15    Loss: 4.09615104007721\n",
            "\n",
            "Epoch:    2/15    Loss: 4.089482173442841\n",
            "\n",
            "Epoch:    2/15    Loss: 4.070721054077149\n",
            "\n",
            "Epoch:    3/15    Loss: 4.005708941123007\n",
            "\n",
            "Epoch:    3/15    Loss: 3.961384912490845\n",
            "\n",
            "Epoch:    3/15    Loss: 3.964865234851837\n",
            "\n",
            "Epoch:    3/15    Loss: 3.9513372149467467\n",
            "\n",
            "Epoch:    3/15    Loss: 3.9342589750289916\n",
            "\n",
            "Epoch:    3/15    Loss: 3.9358371567726134\n",
            "\n",
            "Epoch:    4/15    Loss: 3.8918295687600772\n",
            "\n",
            "Epoch:    4/15    Loss: 3.832634169101715\n",
            "\n",
            "Epoch:    4/15    Loss: 3.8565262422561646\n",
            "\n",
            "Epoch:    4/15    Loss: 3.8441406421661375\n",
            "\n",
            "Epoch:    4/15    Loss: 3.851958361148834\n",
            "\n",
            "Epoch:    4/15    Loss: 3.853657479763031\n",
            "\n",
            "Epoch:    5/15    Loss: 3.8010778322831054\n",
            "\n",
            "Epoch:    5/15    Loss: 3.7579467611312865\n",
            "\n",
            "Epoch:    5/15    Loss: 3.7697221636772156\n",
            "\n",
            "Epoch:    5/15    Loss: 3.7573875889778137\n",
            "\n",
            "Epoch:    5/15    Loss: 3.791852809906006\n",
            "\n",
            "Epoch:    5/15    Loss: 3.786799476623535\n",
            "\n",
            "Epoch:    6/15    Loss: 3.731301079931482\n",
            "\n",
            "Epoch:    6/15    Loss: 3.6908777508735655\n",
            "\n",
            "Epoch:    6/15    Loss: 3.6909290924072264\n",
            "\n",
            "Epoch:    6/15    Loss: 3.7085818362236025\n",
            "\n",
            "Epoch:    6/15    Loss: 3.719530197620392\n",
            "\n",
            "Epoch:    6/15    Loss: 3.7364972558021545\n",
            "\n",
            "Epoch:    7/15    Loss: 3.6797198684145207\n",
            "\n",
            "Epoch:    7/15    Loss: 3.6428476543426513\n",
            "\n",
            "Epoch:    7/15    Loss: 3.652679965019226\n",
            "\n",
            "Epoch:    7/15    Loss: 3.6525713648796083\n",
            "\n",
            "Epoch:    7/15    Loss: 3.6727388439178466\n",
            "\n",
            "Epoch:    7/15    Loss: 3.686578651428223\n",
            "\n",
            "Epoch:    8/15    Loss: 3.6307510473478364\n",
            "\n",
            "Epoch:    8/15    Loss: 3.5904513201713564\n",
            "\n",
            "Epoch:    8/15    Loss: 3.6057613711357117\n",
            "\n",
            "Epoch:    8/15    Loss: 3.6266509404182434\n",
            "\n",
            "Epoch:    8/15    Loss: 3.6312910137176515\n",
            "\n",
            "Epoch:    8/15    Loss: 3.6463358511924744\n",
            "\n",
            "Epoch:    9/15    Loss: 3.5893730520595732\n",
            "\n",
            "Epoch:    9/15    Loss: 3.558651574611664\n",
            "\n",
            "Epoch:    9/15    Loss: 3.5616225509643553\n",
            "\n",
            "Epoch:    9/15    Loss: 3.5762093620300295\n",
            "\n",
            "Epoch:    9/15    Loss: 3.5827380299568174\n",
            "\n",
            "Epoch:    9/15    Loss: 3.6092489428520205\n",
            "\n",
            "Epoch:   10/15    Loss: 3.564589440761966\n",
            "\n",
            "Epoch:   10/15    Loss: 3.5293958992958068\n",
            "\n",
            "Epoch:   10/15    Loss: 3.534796398639679\n",
            "\n",
            "Epoch:   10/15    Loss: 3.537774529457092\n",
            "\n",
            "Epoch:   10/15    Loss: 3.5580203771591186\n",
            "\n",
            "Epoch:   10/15    Loss: 3.562587348461151\n",
            "\n",
            "Epoch:   11/15    Loss: 3.5250652765330317\n",
            "\n",
            "Epoch:   11/15    Loss: 3.4778950667381285\n",
            "\n",
            "Epoch:   11/15    Loss: 3.5038811745643614\n",
            "\n",
            "Epoch:   11/15    Loss: 3.512629083633423\n",
            "\n",
            "Epoch:   11/15    Loss: 3.5291512594223025\n",
            "\n",
            "Epoch:   11/15    Loss: 3.542829335689545\n",
            "\n",
            "Epoch:   12/15    Loss: 3.482407592926724\n",
            "\n",
            "Epoch:   12/15    Loss: 3.4417983093261717\n",
            "\n",
            "Epoch:   12/15    Loss: 3.4702623720169066\n",
            "\n",
            "Epoch:   12/15    Loss: 3.4808872575759886\n",
            "\n",
            "Epoch:   12/15    Loss: 3.4988142681121825\n",
            "\n",
            "Epoch:   12/15    Loss: 3.518622441291809\n",
            "\n",
            "Epoch:   13/15    Loss: 3.4598529816643997\n",
            "\n",
            "Epoch:   13/15    Loss: 3.428928095817566\n",
            "\n",
            "Epoch:   13/15    Loss: 3.4404667205810546\n",
            "\n",
            "Epoch:   13/15    Loss: 3.462063749790192\n",
            "\n",
            "Epoch:   13/15    Loss: 3.470787479400635\n",
            "\n",
            "Epoch:   13/15    Loss: 3.475114275455475\n",
            "\n",
            "Epoch:   14/15    Loss: 3.436604091376521\n",
            "\n",
            "Epoch:   14/15    Loss: 3.3988232107162477\n",
            "\n",
            "Epoch:   14/15    Loss: 3.41119127702713\n",
            "\n",
            "Epoch:   14/15    Loss: 3.423964421749115\n",
            "\n",
            "Epoch:   14/15    Loss: 3.45451171541214\n",
            "\n",
            "Epoch:   14/15    Loss: 3.4658558883666992\n",
            "\n",
            "Epoch:   15/15    Loss: 3.4055059128350913\n",
            "\n",
            "Epoch:   15/15    Loss: 3.374005816459656\n",
            "\n",
            "Epoch:   15/15    Loss: 3.4091756916046143\n",
            "\n",
            "Epoch:   15/15    Loss: 3.4154355249404906\n",
            "\n",
            "Epoch:   15/15    Loss: 3.4147038850784304\n",
            "\n",
            "Epoch:   15/15    Loss: 3.431244019985199\n",
            "\n"
          ],
          "name": "stdout"
        },
        {
          "output_type": "stream",
          "text": [
            "/usr/local/lib/python3.6/dist-packages/torch/serialization.py:251: UserWarning: Couldn't retrieve source code for container of type RNN. It won't be checked for correctness upon loading.\n",
            "  \"type \" + obj.__name__ + \". It won't be checked \"\n"
          ],
          "name": "stderr"
        },
        {
          "output_type": "stream",
          "text": [
            "Model Trained and Saved\n"
          ],
          "name": "stdout"
        }
      ]
    },
    {
      "metadata": {
        "id": "zg7asScPdTAp",
        "colab_type": "text"
      },
      "cell_type": "markdown",
      "source": [
        "### Question: How did you decide on your model hyperparameters? \n",
        "For example, did you try different sequence_lengths and find that one size made the model converge faster? What about your hidden_dim and n_layers; how did you decide on those?"
      ]
    },
    {
      "metadata": {
        "id": "iwPOERl8dTAp",
        "colab_type": "text"
      },
      "cell_type": "markdown",
      "source": [
        "**Answer:** Yes, I tried different sequence_lengths, hidden_dim and n_layers. I find that the larger the sequence_length and n_layers, the more time it takes the model to train. I used a trial and error approach to determine most of the hyperparameters for the model. \n",
        "\n",
        "Sequence Length: I used sequence length varying from 10 to 30. Although larger sequence lengths result in better training, it took more time to train the model.\n",
        "\n",
        "Batch Size: For the batch size, I started out with 32, but noticed that the model wasn't converging as fast as possible. I increased it to 512, and ran out of memory so I decided to use 256 because it lead to the model converging faster.\n",
        "\n",
        "Learning Rate: I used 0.001 as I found 0.01 to be too large in training the model because the training algorithm didn't converge\n",
        "\n",
        "Epochs: I started with 10 epochs, but noticed that it was not enough time to train the model. I decided to use 15 in order to account of early stopping, and changes in the validation error.\n",
        "\n",
        "Layers: I settled with 2 layers knowing that it would take a longer time to train a model with 3 layers. \n",
        "\n",
        "Hidden Dimension: I tried out two different hidden dimension, and found 512 to be large enough knowing that with higher hidden dimension, it takes longer to train.\n",
        "\n",
        "Embedding Layer: I tried multiple embedding dimensions from 100 to 512; I however decided to use 200 because of the criteria that the embedding layer should be significantly smaller than the vocabulary size."
      ]
    },
    {
      "metadata": {
        "id": "tq9tcXWpdTAq",
        "colab_type": "text"
      },
      "cell_type": "markdown",
      "source": [
        "---\n",
        "# Checkpoint\n",
        "\n",
        "After running the above training cell, your model will be saved by name, `trained_rnn`, and if you save your notebook progress, **you can pause here and come back to this code at another time**. You can resume your progress by running the next cell, which will load in our word:id dictionaries _and_ load in your saved model by name!"
      ]
    },
    {
      "metadata": {
        "id": "ld67luUTdTAr",
        "colab_type": "code",
        "colab": {}
      },
      "cell_type": "code",
      "source": [
        "\"\"\"\n",
        "DON'T MODIFY ANYTHING IN THIS CELL\n",
        "\"\"\"\n",
        "import torch\n",
        "import helper\n",
        "import problem_unittests as tests\n",
        "\n",
        "_, vocab_to_int, int_to_vocab, token_dict = helper.load_preprocess()\n",
        "trained_rnn = helper.load_model('./save/trained_rnn')"
      ],
      "execution_count": 0,
      "outputs": []
    },
    {
      "metadata": {
        "id": "2yly8olPdTAs",
        "colab_type": "text"
      },
      "cell_type": "markdown",
      "source": [
        "## Generate TV Script\n",
        "With the network trained and saved, you'll use it to generate a new, \"fake\" Seinfeld TV script in this section.\n",
        "\n",
        "### Generate Text\n",
        "To generate the text, the network needs to start with a single word and repeat its predictions until it reaches a set length. You'll be using the `generate` function to do this. It takes a word id to start with, `prime_id`, and generates a set length of text, `predict_len`. Also note that it uses topk sampling to introduce some randomness in choosing the most likely next word, given an output set of word scores!"
      ]
    },
    {
      "metadata": {
        "id": "6tzLPWmddTAt",
        "colab_type": "code",
        "colab": {}
      },
      "cell_type": "code",
      "source": [
        "\"\"\"\n",
        "DON'T MODIFY ANYTHING IN THIS CELL THAT IS BELOW THIS LINE\n",
        "\"\"\"\n",
        "import torch.nn.functional as F\n",
        "\n",
        "def generate(rnn, prime_id, int_to_vocab, token_dict, pad_value, predict_len=100):\n",
        "    \"\"\"\n",
        "    Generate text using the neural network\n",
        "    :param decoder: The PyTorch Module that holds the trained neural network\n",
        "    :param prime_id: The word id to start the first prediction\n",
        "    :param int_to_vocab: Dict of word id keys to word values\n",
        "    :param token_dict: Dict of puncuation tokens keys to puncuation values\n",
        "    :param pad_value: The value used to pad a sequence\n",
        "    :param predict_len: The length of text to generate\n",
        "    :return: The generated text\n",
        "    \"\"\"\n",
        "    rnn.eval()\n",
        "    \n",
        "    # create a sequence (batch_size=1) with the prime_id\n",
        "    current_seq = np.full((1, sequence_length), pad_value)\n",
        "    current_seq[-1][-1] = prime_id\n",
        "    predicted = [int_to_vocab[prime_id]]\n",
        "    \n",
        "    for _ in range(predict_len):\n",
        "        if train_on_gpu:\n",
        "            current_seq = torch.LongTensor(current_seq).cuda()\n",
        "        else:\n",
        "            current_seq = torch.LongTensor(current_seq)\n",
        "        \n",
        "        # initialize the hidden state\n",
        "        hidden = rnn.init_hidden(current_seq.size(0))\n",
        "        \n",
        "        # get the output of the rnn\n",
        "        output, _ = rnn(current_seq, hidden)\n",
        "        \n",
        "        # get the next word probabilities\n",
        "        p = F.softmax(output, dim=1).data\n",
        "        if(train_on_gpu):\n",
        "            p = p.cpu() # move to cpu\n",
        "         \n",
        "        # use top_k sampling to get the index of the next word\n",
        "        top_k = 5\n",
        "        p, top_i = p.topk(top_k)\n",
        "        top_i = top_i.numpy().squeeze()\n",
        "        \n",
        "        # select the likely next word index with some element of randomness\n",
        "        p = p.numpy().squeeze()\n",
        "        word_i = np.random.choice(top_i, p=p/p.sum())\n",
        "        \n",
        "        # retrieve that word from the dictionary\n",
        "        word = int_to_vocab[word_i]\n",
        "        predicted.append(word)     \n",
        "        \n",
        "        # the generated word becomes the next \"current sequence\" and the cycle can continue\n",
        "        current_seq = np.roll(current_seq.cpu(), -1, 1)\n",
        "        current_seq[-1][-1] = word_i\n",
        "    \n",
        "    gen_sentences = ' '.join(predicted)\n",
        "    \n",
        "    # Replace punctuation tokens\n",
        "    for key, token in token_dict.items():\n",
        "        ending = ' ' if key in ['\\n', '(', '\"'] else ''\n",
        "        gen_sentences = gen_sentences.replace(' ' + token.lower(), key)\n",
        "    gen_sentences = gen_sentences.replace('\\n ', '\\n')\n",
        "    gen_sentences = gen_sentences.replace('( ', '(')\n",
        "    \n",
        "    # return all the sentences\n",
        "    return gen_sentences"
      ],
      "execution_count": 0,
      "outputs": []
    },
    {
      "metadata": {
        "id": "zjheaL9PdTAv",
        "colab_type": "text"
      },
      "cell_type": "markdown",
      "source": [
        "### Generate a New Script\n",
        "It's time to generate the text. Set `gen_length` to the length of TV script you want to generate and set `prime_word` to one of the following to start the prediction:\n",
        "- \"jerry\"\n",
        "- \"elaine\"\n",
        "- \"george\"\n",
        "- \"kramer\"\n",
        "\n",
        "You can set the prime word to _any word_ in our dictionary, but it's best to start with a name for generating a TV script. (You can also start with any other names you find in the original text file!)"
      ]
    },
    {
      "metadata": {
        "id": "TBfda9YidTAv",
        "colab_type": "code",
        "outputId": "4cc0bea8-3748-41c2-da90-10820c399301",
        "colab": {
          "base_uri": "https://localhost:8080/",
          "height": 943
        }
      },
      "cell_type": "code",
      "source": [
        "# run the cell multiple times to get different results!\n",
        "gen_length = 400 # modify the length to your preference\n",
        "prime_word = 'jerry' # name for starting the script\n",
        "\n",
        "\"\"\"\n",
        "DON'T MODIFY ANYTHING IN THIS CELL THAT IS BELOW THIS LINE\n",
        "\"\"\"\n",
        "pad_word = helper.SPECIAL_WORDS['PADDING']\n",
        "generated_script = generate(trained_rnn, vocab_to_int[prime_word + ':'], int_to_vocab, token_dict, vocab_to_int[pad_word], gen_length)\n",
        "print(generated_script)"
      ],
      "execution_count": 0,
      "outputs": [
        {
          "output_type": "stream",
          "text": [
            "jerry: jerry, and jerry and george are watching george)\n",
            "\n",
            "george:(to george) what?\n",
            "\n",
            "kramer: i don't know. you know...\n",
            "\n",
            "jerry:(to kramer) i was a kid!\n",
            "\n",
            "kramer: well i think i was going to go out. you know what? i think it's a very bad idea.\n",
            "\n",
            "jerry: well you know, i have no idea.\n",
            "\n",
            "kramer: no, no, no. you got the hat.\n",
            "\n",
            "jerry: i know, i'm gonna have to get it back. i mean, if i can get it back to the guy, and i'll get it, and i have a little more money for you...\n",
            "\n",
            "jerry: you know, the guy has to get a new one of the whole world.\n",
            "\n",
            "george: yeah.\n",
            "\n",
            "jerry:(to elaine) oh, i don't know.\n",
            "\n",
            "kramer: oh, no. no, no no, no.\n",
            "\n",
            "newman: well, it's not like a little thing, i can't.\n",
            "\n",
            "elaine:(on phone) hey, what are you doing here? i got it.\n",
            "\n",
            "kramer: hey, i don't know, i can't go.\n",
            "\n",
            "newman: you can't take a look.\n",
            "\n",
            "newman: well, i think i could be a little.\n",
            "\n",
            "george: i know! i mean, i don't even know what i'm talking about. i think i'm going to have to get some sleep.\n",
            "\n",
            "george: i know.\n",
            "\n",
            "jerry: well, you know, it's the only thing.\n",
            "\n",
            "elaine: oh, yeah! yeah.\n",
            "\n",
            "kramer: well, what is it?\n",
            "\n",
            "jerry: what do you want to get?\n",
            "\n",
            "george:(to jerry) oh, i'm sorry. i'm gonna have to get the car back. i'm gonna go to the bathroom.\n",
            "\n",
            "kramer:(leaving) i know.\n",
            "\n",
            "jerry: what about the bathroom?\n",
            "\n",
            "george: i don't know.\n",
            "\n",
            "jerry: what do you want?\n",
            "\n",
            "kramer: well i think\n"
          ],
          "name": "stdout"
        }
      ]
    },
    {
      "metadata": {
        "id": "m7K-1qPndTAx",
        "colab_type": "text"
      },
      "cell_type": "markdown",
      "source": [
        "#### Save your favorite scripts\n",
        "\n",
        "Once you have a script that you like (or find interesting), save it to a text file!"
      ]
    },
    {
      "metadata": {
        "id": "dCjOt4P1dTAy",
        "colab_type": "code",
        "colab": {}
      },
      "cell_type": "code",
      "source": [
        "# save script to a text file\n",
        "f =  open(\"generated_script_1.txt\",\"w\")\n",
        "f.write(generated_script)\n",
        "f.close()"
      ],
      "execution_count": 0,
      "outputs": []
    },
    {
      "metadata": {
        "id": "Ye2IBNLDdTA1",
        "colab_type": "text"
      },
      "cell_type": "markdown",
      "source": [
        "# The TV Script is Not Perfect\n",
        "It's ok if the TV script doesn't make perfect sense. It should look like alternating lines of dialogue, here is one such example of a few generated lines.\n",
        "\n",
        "### Example generated script\n",
        "\n",
        ">jerry: what about me?\n",
        ">\n",
        ">jerry: i don't have to wait.\n",
        ">\n",
        ">kramer:(to the sales table)\n",
        ">\n",
        ">elaine:(to jerry) hey, look at this, i'm a good doctor.\n",
        ">\n",
        ">newman:(to elaine) you think i have no idea of this...\n",
        ">\n",
        ">elaine: oh, you better take the phone, and he was a little nervous.\n",
        ">\n",
        ">kramer:(to the phone) hey, hey, jerry, i don't want to be a little bit.(to kramer and jerry) you can't.\n",
        ">\n",
        ">jerry: oh, yeah. i don't even know, i know.\n",
        ">\n",
        ">jerry:(to the phone) oh, i know.\n",
        ">\n",
        ">kramer:(laughing) you know...(to jerry) you don't know.\n",
        "\n",
        "You can see that there are multiple characters that say (somewhat) complete sentences, but it doesn't have to be perfect! It takes quite a while to get good results, and often, you'll have to use a smaller vocabulary (and discard uncommon words), or get more data.  The Seinfeld dataset is about 3.4 MB, which is big enough for our purposes; for script generation you'll want more than 1 MB of text, generally. \n",
        "\n",
        "# Submitting This Project\n",
        "When submitting this project, make sure to run all the cells before saving the notebook. Save the notebook file as \"dlnd_tv_script_generation.ipynb\" and save another copy as an HTML file by clicking \"File\" -> \"Download as..\"->\"html\". Include the \"helper.py\" and \"problem_unittests.py\" files in your submission. Once you download these files, compress them into one zip file for submission."
      ]
    },
    {
      "metadata": {
        "id": "sjSRGfOBdTA2",
        "colab_type": "code",
        "colab": {}
      },
      "cell_type": "code",
      "source": [
        ""
      ],
      "execution_count": 0,
      "outputs": []
    }
  ]
}